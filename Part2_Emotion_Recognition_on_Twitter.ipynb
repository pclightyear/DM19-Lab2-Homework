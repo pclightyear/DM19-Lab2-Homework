{
 "cells": [
  {
   "cell_type": "markdown",
   "metadata": {},
   "source": [
    "# Part 2: Emotion Recognition on Twitter"
   ]
  },
  {
   "cell_type": "code",
   "execution_count": null,
   "metadata": {},
   "outputs": [],
   "source": [
    "# libraries import\n",
    "import os\n",
    "import re\n",
    "import time\n",
    "import math\n",
    "import string\n",
    "import numpy as np \n",
    "import pandas as pd\n",
    "import tensorflow as tf\n",
    "import matplotlib.pyplot as plt\n",
    "import seaborn as sns\n",
    "from gensim.models import KeyedVectors\n",
    "import helpers.data_mining_helpers as dmh"
   ]
  },
  {
   "cell_type": "code",
   "execution_count": null,
   "metadata": {},
   "outputs": [],
   "source": [
    "# nltk library\n",
    "import nltk\n",
    "from nltk.corpus import stopwords\n",
    "from nltk.tokenize import TweetTokenizer"
   ]
  },
  {
   "cell_type": "code",
   "execution_count": null,
   "metadata": {},
   "outputs": [],
   "source": [
    "# sklearn library\n",
    "from sklearn.preprocessing import OneHotEncoder\n",
    "from sklearn.preprocessing import LabelEncoder\n",
    "from sklearn.feature_extraction.text import CountVectorizer\n",
    "from sklearn.feature_extraction.text import TfidfVectorizer\n",
    "from sklearn.model_selection import train_test_split\n",
    "from sklearn.naive_bayes import MultinomialNB\n",
    "from sklearn.linear_model import LogisticRegression\n",
    "from sklearn.model_selection import cross_val_score\n",
    "from sklearn.metrics import f1_score, classification_report"
   ]
  },
  {
   "cell_type": "code",
   "execution_count": null,
   "metadata": {},
   "outputs": [
    {
     "name": "stderr",
     "output_type": "stream",
     "text": [
      "Using TensorFlow backend.\n"
     ]
    }
   ],
   "source": [
    "# keras library\n",
    "# preprocess\n",
    "from keras.utils import to_categorical\n",
    "from keras.preprocessing.text import Tokenizer\n",
    "from keras.preprocessing.sequence import pad_sequences\n",
    "# model\n",
    "from keras.models import Model, Sequential\n",
    "from keras.layers import Dense, Input, Embedding\n",
    "from keras.layers import ReLU, Softmax, Dropout\n",
    "from keras.callbacks import Callback\n",
    "# RNN\n",
    "from keras.layers import LSTM, Bidirectional, CuDNNLSTM, CuDNNGRU\n",
    "# load model\n",
    "from keras.models import model_from_json"
   ]
  },
  {
   "cell_type": "markdown",
   "metadata": {},
   "source": [
    "### Split the whole training set into train/test set"
   ]
  },
  {
   "cell_type": "code",
   "execution_count": null,
   "metadata": {},
   "outputs": [],
   "source": [
    "# import preprocessed training set\n",
    "# dir path\n",
    "dir_data = 'data/twitter'\n",
    "\n",
    "f_whole_data_df = os.path.join(dir_data, 'data_df.pkl')\n",
    "\n",
    "# read file and convert into pandas dataframe\n",
    "whole_data_df = pd.read_pickle(f_whole_data_df)"
   ]
  },
  {
   "cell_type": "code",
   "execution_count": null,
   "metadata": {},
   "outputs": [],
   "source": [
    "df = whole_data_df\n",
    "df = df.sample(frac=1).reset_index(drop=True)"
   ]
  },
  {
   "cell_type": "code",
   "execution_count": null,
   "metadata": {},
   "outputs": [],
   "source": [
    "train_df, test_df = train_test_split(df, test_size=0.15)"
   ]
  },
  {
   "cell_type": "code",
   "execution_count": null,
   "metadata": {},
   "outputs": [],
   "source": [
    "train_df.reset_index(drop=True, inplace=True)\n",
    "test_df.reset_index(drop=True, inplace=True)"
   ]
  },
  {
   "cell_type": "code",
   "execution_count": null,
   "metadata": {},
   "outputs": [],
   "source": [
    "train_df.to_pickle(\"data/twitter/train_df.pkl\") \n",
    "test_df.to_pickle(\"data/twitter/test_df.pkl\")"
   ]
  },
  {
   "cell_type": "markdown",
   "metadata": {},
   "source": [
    "### import train/test/public test data"
   ]
  },
  {
   "cell_type": "code",
   "execution_count": null,
   "metadata": {},
   "outputs": [],
   "source": [
    "# import preprocessed train/test/public test data\n",
    "# dir path\n",
    "dir_data = 'data/twitter'\n",
    "\n",
    "f_train_df = os.path.join(dir_data, 'train_df.pkl')\n",
    "f_test_df = os.path.join(dir_data, 'test_df.pkl')\n",
    "f_public_test_df = os.path.join(dir_data, 'public_test_df.pkl')\n",
    "f_sample_sub = os.path.join(dir_data, 'sampleSubmission.csv')\n",
    "\n",
    "# read file and convert into pandas dataframe\n",
    "train_df = pd.read_pickle(f_train_df)\n",
    "test_df = pd.read_pickle(f_test_df)\n",
    "public_test_df = pd.read_pickle(f_public_test_df)\n",
    "sample_sub = pd.read_csv(f_sample_sub)"
   ]
  },
  {
   "cell_type": "markdown",
   "metadata": {},
   "source": [
    "### Utils"
   ]
  },
  {
   "cell_type": "code",
   "execution_count": null,
   "metadata": {},
   "outputs": [],
   "source": [
    "# utils\n",
    "def label_decode(le, one_hot_label):\n",
    "    dec = np.argmax(one_hot_label, axis=1)\n",
    "    return le.inverse_transform(dec)"
   ]
  },
  {
   "cell_type": "code",
   "execution_count": null,
   "metadata": {},
   "outputs": [],
   "source": [
    "# csv_logger\n",
    "from keras.callbacks import CSVLogger\n",
    "\n",
    "csv_logger = CSVLogger('logs/training_log.csv')"
   ]
  },
  {
   "cell_type": "code",
   "execution_count": null,
   "metadata": {},
   "outputs": [],
   "source": [
    "# mean f1 score metrics\n",
    "class Metrics(Callback):\n",
    "    def on_train_begin(self, logs=None):\n",
    "        self.val_f1s = []\n",
    "\n",
    "    def on_epoch_end(self, epoch, logs=None):\n",
    "        y_pred = self.model.predict(self.validation_data[0])\n",
    "        y_pred = label_decode(label_encoder, y_pred)\n",
    "        y_true = label_decode(label_encoder, self.validation_data[1])\n",
    "        _val_f1 = f1_score(y_true, y_pred, average='macro')\n",
    "        self.val_f1s.append(_val_f1)\n",
    "        print(classification_report(y_true=y_true, y_pred=y_pred))\n",
    "        print(_val_f1)\n",
    "    \n",
    "metrics = Metrics()"
   ]
  },
  {
   "cell_type": "code",
   "execution_count": null,
   "metadata": {},
   "outputs": [],
   "source": [
    "# import custom emoji to adjectives about emotions mappings\n",
    "emoji_dict = dmh.emoji\n",
    "emojis = emoji_dict.keys()"
   ]
  },
  {
   "cell_type": "code",
   "execution_count": null,
   "metadata": {},
   "outputs": [],
   "source": [
    "# import custom frequent name to adjectives about emotions mappings\n",
    "frequent_name_dict = dmh.frequent_name_dict\n",
    "frequent_names = frequent_name_dict.keys()"
   ]
  },
  {
   "cell_type": "markdown",
   "metadata": {},
   "source": [
    "---\n",
    "---"
   ]
  },
  {
   "cell_type": "markdown",
   "metadata": {},
   "source": [
    "### text preprocess"
   ]
  },
  {
   "cell_type": "code",
   "execution_count": null,
   "metadata": {},
   "outputs": [
    {
     "data": {
      "text/plain": [
       "joy             0.354608\n",
       "anticipation    0.171081\n",
       "trust           0.141038\n",
       "sadness         0.132778\n",
       "disgust         0.095564\n",
       "fear            0.044092\n",
       "surprise        0.033451\n",
       "anger           0.027388\n",
       "Name: label, dtype: float64"
      ]
     },
     "execution_count": null,
     "metadata": {},
     "output_type": "execute_result"
    }
   ],
   "source": [
    "train_df['label'].value_counts() / len(train_df)"
   ]
  },
  {
   "cell_type": "code",
   "execution_count": null,
   "metadata": {},
   "outputs": [],
   "source": [
    "tweet_tokenizer = TweetTokenizer(reduce_len=True)"
   ]
  },
  {
   "cell_type": "code",
   "execution_count": null,
   "metadata": {},
   "outputs": [],
   "source": [
    "# utils\n",
    "def clean_text(text):\n",
    "    text = text.lower()\n",
    "    grams = nltk.word_tokenize(text)\n",
    "    grams = [\"<user>\" if w == \"useruser\" else w for w in grams]\n",
    "    grams = [\"<hashtag>\" if w == \"hashtaghashtag\" else w for w in grams]\n",
    "    text = ' '.join(grams)\n",
    "    \n",
    "    return text"
   ]
  },
  {
   "cell_type": "code",
   "execution_count": null,
   "metadata": {},
   "outputs": [],
   "source": [
    "def df_preprocess(df):\n",
    "    # remove <LH> text\n",
    "    df['text'] = df['text'].apply(lambda s : s.replace('<LH>',''))\n",
    "    \n",
    "    df['tmp'] = df['text'].apply(lambda s : tweet_tokenizer.tokenize(s))\n",
    "    \n",
    "    # replace frequent name  with adjectives\n",
    "    df['tmp'] = df['tmp'].apply(lambda u : [frequent_name_dict[w] if w in frequent_names else w for w in u])\n",
    "    \n",
    "    # replace @name with <user>\n",
    "    p = re.compile('@*')\n",
    "    df['tmp'] = df['tmp'].apply(lambda u : [\"useruser\" if p.match(w).span() != (0, 0) else w for w in u])\n",
    "    \n",
    "    # replace # with <hashtag>\n",
    "    p = re.compile('#*')\n",
    "    df['tmp'] = df['tmp'].apply(lambda u : [\"hashtaghashtag \" + w[1:] if p.match(w).span() != (0, 0) else w for w in u])\n",
    "   \n",
    "    # replace common emojis with adjectives\n",
    "    df['tmp'] = df['tmp'].apply(lambda u : [emoji_dict[w] if w in emojis else w for w in u])\n",
    "\n",
    "    df['p_text'] = df['tmp'].apply(lambda a : ' '.join(a))\n",
    "    df.drop(['tmp'], axis=1, inplace=True)\n",
    "    \n",
    "    # text preprocess   \n",
    "    df['p_text'] = df['p_text'].apply(clean_text)\n",
    "    df['p_text'] = df['p_text'].str.replace('\\d+', '')"
   ]
  },
  {
   "cell_type": "code",
   "execution_count": null,
   "metadata": {},
   "outputs": [],
   "source": [
    "# sample 100k records for training\n",
    "sample_df = train_df.sample(n=100000)\n",
    "sample_df.head()"
   ]
  },
  {
   "cell_type": "code",
   "execution_count": null,
   "metadata": {},
   "outputs": [
    {
     "data": {
      "text/html": [
       "<div>\n",
       "<style scoped>\n",
       "    .dataframe tbody tr th:only-of-type {\n",
       "        vertical-align: middle;\n",
       "    }\n",
       "\n",
       "    .dataframe tbody tr th {\n",
       "        vertical-align: top;\n",
       "    }\n",
       "\n",
       "    .dataframe thead th {\n",
       "        text-align: right;\n",
       "    }\n",
       "</style>\n",
       "<table border=\"1\" class=\"dataframe\">\n",
       "  <thead>\n",
       "    <tr style=\"text-align: right;\">\n",
       "      <th></th>\n",
       "      <th>id</th>\n",
       "      <th>text</th>\n",
       "      <th>hashtags</th>\n",
       "      <th>date</th>\n",
       "      <th>score</th>\n",
       "      <th>label</th>\n",
       "      <th>p_text</th>\n",
       "    </tr>\n",
       "  </thead>\n",
       "  <tbody>\n",
       "    <tr>\n",
       "      <th>0</th>\n",
       "      <td>0x2fee0a</td>\n",
       "      <td>@adotward I meant to say that with THIS accoun...</td>\n",
       "      <td>[]</td>\n",
       "      <td>2016-04-01 13:56:23</td>\n",
       "      <td>462</td>\n",
       "      <td>sadness</td>\n",
       "      <td>&lt;user&gt; i meant to say that with this account . xd</td>\n",
       "    </tr>\n",
       "    <tr>\n",
       "      <th>1</th>\n",
       "      <td>0x270e31</td>\n",
       "      <td>We Dont Eat Breakfast On ThanksGiving Over Her...</td>\n",
       "      <td>[VeryThankful]</td>\n",
       "      <td>2015-05-21 21:41:57</td>\n",
       "      <td>490</td>\n",
       "      <td>joy</td>\n",
       "      <td>we dont eat breakfast on thanksgiving over her...</td>\n",
       "    </tr>\n",
       "    <tr>\n",
       "      <th>2</th>\n",
       "      <td>0x27a168</td>\n",
       "      <td>Did you know 96% of CEF missionaries serve in ...</td>\n",
       "      <td>[FunFactFriday]</td>\n",
       "      <td>2015-03-07 13:42:40</td>\n",
       "      <td>961</td>\n",
       "      <td>anticipation</td>\n",
       "      <td>did you know  % of cef missionaries serve in t...</td>\n",
       "    </tr>\n",
       "    <tr>\n",
       "      <th>3</th>\n",
       "      <td>0x33219e</td>\n",
       "      <td>@GaryBarlow buying mine fri bloody payday !!! ...</td>\n",
       "      <td>[]</td>\n",
       "      <td>2015-10-08 04:02:46</td>\n",
       "      <td>868</td>\n",
       "      <td>anticipation</td>\n",
       "      <td>&lt;user&gt; buying mine fri bloody payday ! ! ! hul...</td>\n",
       "    </tr>\n",
       "    <tr>\n",
       "      <th>4</th>\n",
       "      <td>0x255262</td>\n",
       "      <td>Country girls be like you're too much of a gen...</td>\n",
       "      <td>[]</td>\n",
       "      <td>2016-12-16 03:05:54</td>\n",
       "      <td>404</td>\n",
       "      <td>disgust</td>\n",
       "      <td>country girls be like you 're too much of a ge...</td>\n",
       "    </tr>\n",
       "  </tbody>\n",
       "</table>\n",
       "</div>"
      ],
      "text/plain": [
       "         id                                               text  \\\n",
       "0  0x2fee0a  @adotward I meant to say that with THIS accoun...   \n",
       "1  0x270e31  We Dont Eat Breakfast On ThanksGiving Over Her...   \n",
       "2  0x27a168  Did you know 96% of CEF missionaries serve in ...   \n",
       "3  0x33219e  @GaryBarlow buying mine fri bloody payday !!! ...   \n",
       "4  0x255262  Country girls be like you're too much of a gen...   \n",
       "\n",
       "          hashtags                 date  score         label  \\\n",
       "0               []  2016-04-01 13:56:23    462       sadness   \n",
       "1   [VeryThankful]  2015-05-21 21:41:57    490           joy   \n",
       "2  [FunFactFriday]  2015-03-07 13:42:40    961  anticipation   \n",
       "3               []  2015-10-08 04:02:46    868  anticipation   \n",
       "4               []  2016-12-16 03:05:54    404       disgust   \n",
       "\n",
       "                                              p_text  \n",
       "0  <user> i meant to say that with this account . xd  \n",
       "1  we dont eat breakfast on thanksgiving over her...  \n",
       "2  did you know  % of cef missionaries serve in t...  \n",
       "3  <user> buying mine fri bloody payday ! ! ! hul...  \n",
       "4  country girls be like you 're too much of a ge...  "
      ]
     },
     "execution_count": null,
     "metadata": {},
     "output_type": "execute_result"
    }
   ],
   "source": [
    "df_preprocess(train_df)\n",
    "train_df.head()"
   ]
  },
  {
   "cell_type": "code",
   "execution_count": null,
   "metadata": {},
   "outputs": [],
   "source": [
    "df_preprocess(sample_df)\n",
    "sample_df.head()"
   ]
  },
  {
   "cell_type": "code",
   "execution_count": null,
   "metadata": {},
   "outputs": [],
   "source": [
    "df_preprocess(test_df)\n",
    "df_preprocess(public_test_df)"
   ]
  },
  {
   "cell_type": "markdown",
   "metadata": {},
   "source": [
    "---\n",
    "---"
   ]
  },
  {
   "cell_type": "markdown",
   "metadata": {},
   "source": [
    "### train naive bayes classifier as baseline"
   ]
  },
  {
   "cell_type": "code",
   "execution_count": null,
   "metadata": {},
   "outputs": [],
   "source": [
    "MAX_FEATURES = 50000\n",
    "df = train_df"
   ]
  },
  {
   "cell_type": "code",
   "execution_count": null,
   "metadata": {},
   "outputs": [
    {
     "name": "stdout",
     "output_type": "stream",
     "text": [
      "time : 229.48394680023193 sec\n",
      "(1237228, 50000)\n"
     ]
    }
   ],
   "source": [
    "start = time.time()\n",
    "\n",
    "BOW = CountVectorizer(max_features=MAX_FEATURES, \n",
    "                             tokenizer=nltk.word_tokenize, \n",
    "                             ngram_range=(1,2))\n",
    "\n",
    "BOW_f = BOW.fit_transform(df['text'])\n",
    "\n",
    "print(f'time : {time.time() - start} sec')\n",
    "print(BOW_f.shape)"
   ]
  },
  {
   "cell_type": "code",
   "execution_count": null,
   "metadata": {},
   "outputs": [
    {
     "name": "stdout",
     "output_type": "stream",
     "text": [
      "0.44350069407094744\n",
      "time : 52.59015941619873 sec\n"
     ]
    }
   ],
   "source": [
    "# cross value score on naive bayes classifier\n",
    "start = time.time()\n",
    "X = BOW_f\n",
    "y = df['label']\n",
    "\n",
    "clf = MultinomialNB()\n",
    "print(cross_val_score(clf, X, y, cv=10, scoring='f1_macro').mean())\n",
    "print(f'time : {time.time() - start} sec')"
   ]
  },
  {
   "cell_type": "code",
   "execution_count": null,
   "metadata": {},
   "outputs": [],
   "source": [
    "clf.fit(X, y)\n",
    "X_private_test = BOW.transform(test_df['text'])\n",
    "y_pred = clf.predict(X_private_test)\n",
    "y_true = test_df['label']"
   ]
  },
  {
   "cell_type": "code",
   "execution_count": null,
   "metadata": {},
   "outputs": [
    {
     "name": "stdout",
     "output_type": "stream",
     "text": [
      "              precision    recall  f1-score   support\n",
      "\n",
      "       anger       0.27      0.38      0.31      5982\n",
      "anticipation       0.60      0.54      0.57     37269\n",
      "     disgust       0.37      0.55      0.44     20866\n",
      "        fear       0.31      0.53      0.39      9447\n",
      "         joy       0.67      0.56      0.61     77286\n",
      "     sadness       0.48      0.45      0.47     29160\n",
      "    surprise       0.31      0.30      0.31      7343\n",
      "       trust       0.46      0.44      0.45     30982\n",
      "\n",
      "    accuracy                           0.51    218335\n",
      "   macro avg       0.43      0.47      0.44    218335\n",
      "weighted avg       0.54      0.51      0.52    218335\n",
      "\n"
     ]
    }
   ],
   "source": [
    "# use navie bayas as baseline\n",
    "print(classification_report(y_true=y_true, y_pred=y_pred))"
   ]
  },
  {
   "cell_type": "markdown",
   "metadata": {},
   "source": [
    "---\n",
    "---"
   ]
  },
  {
   "cell_type": "markdown",
   "metadata": {},
   "source": [
    "### load pre-train word embeddings model"
   ]
  },
  {
   "cell_type": "code",
   "execution_count": null,
   "metadata": {},
   "outputs": [
    {
     "name": "stdout",
     "output_type": "stream",
     "text": [
      "load ok\n",
      "time : 173.0552077293396 sec\n"
     ]
    }
   ],
   "source": [
    "# GloVe twitter\n",
    "start = time.time()\n",
    "model_path = \"data/glove.twitter.27B/word2vec.twitter.27B.200d.txt\"\n",
    "w2v_twitter_200_model = KeyedVectors.load_word2vec_format(model_path, binary=False)\n",
    "\n",
    "print('load ok')\n",
    "print(f'time : {time.time() - start} sec')"
   ]
  },
  {
   "cell_type": "markdown",
   "metadata": {},
   "source": [
    "---\n",
    "---"
   ]
  },
  {
   "cell_type": "markdown",
   "metadata": {},
   "source": [
    "### Train RNN model"
   ]
  },
  {
   "cell_type": "markdown",
   "metadata": {},
   "source": [
    "#### training data preparation"
   ]
  },
  {
   "cell_type": "code",
   "execution_count": null,
   "metadata": {},
   "outputs": [],
   "source": [
    "df = train_df"
   ]
  },
  {
   "cell_type": "code",
   "execution_count": null,
   "metadata": {},
   "outputs": [],
   "source": [
    "MAX_NB_WORDS = 50000\n",
    "MAX_SEQUENCE_LENGTH = 30\n",
    "EMBEDDING_DIM = 200"
   ]
  },
  {
   "cell_type": "code",
   "execution_count": null,
   "metadata": {},
   "outputs": [
    {
     "name": "stdout",
     "output_type": "stream",
     "text": [
      "Found 418413 unique tokens.\n"
     ]
    }
   ],
   "source": [
    "tokenizer = Tokenizer(num_words=MAX_NB_WORDS, filters=\"\", lower=True)\n",
    "tokenizer.fit_on_texts(df['p_text'].values)\n",
    "word_index = tokenizer.word_index\n",
    "print('Found %s unique tokens.' % len(word_index))"
   ]
  },
  {
   "cell_type": "code",
   "execution_count": null,
   "metadata": {},
   "outputs": [
    {
     "name": "stdout",
     "output_type": "stream",
     "text": [
      "Shape of data tensor: (1237228, 30)\n"
     ]
    }
   ],
   "source": [
    "X = tokenizer.texts_to_sequences(df['p_text'].values)\n",
    "X = pad_sequences(X, maxlen=MAX_SEQUENCE_LENGTH, padding='post')\n",
    "print('Shape of data tensor:', X.shape)"
   ]
  },
  {
   "cell_type": "code",
   "execution_count": null,
   "metadata": {},
   "outputs": [
    {
     "name": "stdout",
     "output_type": "stream",
     "text": [
      "Shape of label tensor: (1237228, 8)\n"
     ]
    }
   ],
   "source": [
    "label_encoder = LabelEncoder()\n",
    "enc = label_encoder.fit_transform(df['label'])\n",
    "Y = to_categorical(enc)\n",
    "\n",
    "print('Shape of label tensor:', Y.shape)"
   ]
  },
  {
   "cell_type": "code",
   "execution_count": null,
   "metadata": {},
   "outputs": [
    {
     "name": "stdout",
     "output_type": "stream",
     "text": [
      "(989782, 30) (989782, 8)\n",
      "(247446, 30) (247446, 8)\n"
     ]
    }
   ],
   "source": [
    "X_train, X_test, Y_train, Y_test = train_test_split(X, Y, test_size = 0.2, random_state = 42)\n",
    "print(X_train.shape, Y_train.shape)\n",
    "print(X_test.shape, Y_test.shape)"
   ]
  },
  {
   "cell_type": "code",
   "execution_count": null,
   "metadata": {},
   "outputs": [],
   "source": [
    "word_model = w2v_twitter_200_model\n",
    "vocab_size = len(tokenizer.word_index) + 1\n",
    "\n",
    "embedding_matrix = np.zeros((vocab_size, EMBEDDING_DIM))\n",
    "for word, i in tokenizer.word_index.items():\n",
    "    if word in word_model.vocab:\n",
    "        embedding_matrix[i] = word_model[word]"
   ]
  },
  {
   "cell_type": "code",
   "execution_count": null,
   "metadata": {},
   "outputs": [
    {
     "data": {
      "text/plain": [
       "(418414, 200)"
      ]
     },
     "execution_count": null,
     "metadata": {},
     "output_type": "execute_result"
    }
   ],
   "source": [
    "embedding_matrix.shape"
   ]
  },
  {
   "cell_type": "markdown",
   "metadata": {},
   "source": [
    "---\n",
    "---"
   ]
  },
  {
   "cell_type": "markdown",
   "metadata": {},
   "source": [
    "#### RNN model prepare"
   ]
  },
  {
   "cell_type": "code",
   "execution_count": null,
   "metadata": {},
   "outputs": [],
   "source": [
    "# pre-train embedding\n",
    "embedding_layer = Embedding(vocab_size, \n",
    "                            EMBEDDING_DIM, \n",
    "                            weights=[embedding_matrix],\n",
    "#                             mask_zero=True,\n",
    "                            input_length=MAX_SEQUENCE_LENGTH, \n",
    "                            trainable=False)"
   ]
  },
  {
   "cell_type": "code",
   "execution_count": null,
   "metadata": {},
   "outputs": [
    {
     "name": "stdout",
     "output_type": "stream",
     "text": [
      "Train on 989782 samples, validate on 247446 samples\n",
      "Epoch 1/7\n",
      "989782/989782 [==============================] - 160s 162us/step - loss: 1.2254 - acc: 0.5526 - val_loss: 1.1587 - val_acc: 0.5785\n",
      "              precision    recall  f1-score   support\n",
      "\n",
      "       anger       0.66      0.25      0.36      6709\n",
      "anticipation       0.62      0.62      0.62     42283\n",
      "     disgust       0.49      0.42      0.45     23754\n",
      "        fear       0.68      0.43      0.52     10870\n",
      "         joy       0.59      0.79      0.68     87823\n",
      "     sadness       0.50      0.52      0.51     32758\n",
      "    surprise       0.86      0.21      0.33      8400\n",
      "       trust       0.58      0.36      0.45     34849\n",
      "\n",
      "    accuracy                           0.58    247446\n",
      "   macro avg       0.62      0.45      0.49    247446\n",
      "weighted avg       0.59      0.58      0.56    247446\n",
      "\n",
      "Epoch 2/7\n",
      "989782/989782 [==============================] - 162s 164us/step - loss: 1.1266 - acc: 0.5903 - val_loss: 1.1327 - val_acc: 0.5889\n",
      "              precision    recall  f1-score   support\n",
      "\n",
      "       anger       0.58      0.29      0.38      6709\n",
      "anticipation       0.66      0.60      0.63     42283\n",
      "     disgust       0.52      0.40      0.45     23754\n",
      "        fear       0.64      0.47      0.54     10870\n",
      "         joy       0.60      0.81      0.69     87823\n",
      "     sadness       0.48      0.58      0.52     32758\n",
      "    surprise       0.76      0.23      0.35      8400\n",
      "       trust       0.65      0.35      0.46     34849\n",
      "\n",
      "    accuracy                           0.59    247446\n",
      "   macro avg       0.61      0.46      0.50    247446\n",
      "weighted avg       0.60      0.59      0.57    247446\n",
      "\n",
      "Epoch 3/7\n",
      "989782/989782 [==============================] - 163s 164us/step - loss: 1.0901 - acc: 0.6040 - val_loss: 1.1277 - val_acc: 0.5904\n",
      "              precision    recall  f1-score   support\n",
      "\n",
      "       anger       0.69      0.25      0.37      6709\n",
      "anticipation       0.67      0.60      0.63     42283\n",
      "     disgust       0.53      0.38      0.44     23754\n",
      "        fear       0.69      0.45      0.55     10870\n",
      "         joy       0.61      0.80      0.69     87823\n",
      "     sadness       0.45      0.62      0.52     32758\n",
      "    surprise       0.75      0.23      0.36      8400\n",
      "       trust       0.63      0.36      0.46     34849\n",
      "\n",
      "    accuracy                           0.59    247446\n",
      "   macro avg       0.63      0.46      0.50    247446\n",
      "weighted avg       0.60      0.59      0.58    247446\n",
      "\n",
      "Epoch 4/7\n",
      "989782/989782 [==============================] - 162s 164us/step - loss: 1.0634 - acc: 0.6143 - val_loss: 1.1302 - val_acc: 0.5919\n",
      "              precision    recall  f1-score   support\n",
      "\n",
      "       anger       0.63      0.27      0.38      6709\n",
      "anticipation       0.64      0.63      0.63     42283\n",
      "     disgust       0.52      0.41      0.46     23754\n",
      "        fear       0.67      0.45      0.54     10870\n",
      "         joy       0.60      0.82      0.69     87823\n",
      "     sadness       0.51      0.54      0.52     32758\n",
      "    surprise       0.69      0.24      0.36      8400\n",
      "       trust       0.65      0.34      0.45     34849\n",
      "\n",
      "    accuracy                           0.59    247446\n",
      "   macro avg       0.61      0.46      0.50    247446\n",
      "weighted avg       0.60      0.59      0.58    247446\n",
      "\n",
      "Epoch 5/7\n",
      "989782/989782 [==============================] - 161s 163us/step - loss: 1.0422 - acc: 0.6221 - val_loss: 1.1322 - val_acc: 0.5900\n",
      "              precision    recall  f1-score   support\n",
      "\n",
      "       anger       0.57      0.29      0.38      6709\n",
      "anticipation       0.66      0.61      0.63     42283\n",
      "     disgust       0.48      0.45      0.47     23754\n",
      "        fear       0.62      0.47      0.54     10870\n",
      "         joy       0.60      0.81      0.69     87823\n",
      "     sadness       0.50      0.54      0.52     32758\n",
      "    surprise       0.72      0.24      0.36      8400\n",
      "       trust       0.64      0.35      0.45     34849\n",
      "\n",
      "    accuracy                           0.59    247446\n",
      "   macro avg       0.60      0.47      0.50    247446\n",
      "weighted avg       0.60      0.59      0.58    247446\n",
      "\n",
      "Epoch 6/7\n",
      "989782/989782 [==============================] - 162s 164us/step - loss: 1.0244 - acc: 0.6284 - val_loss: 1.1403 - val_acc: 0.5886\n",
      "              precision    recall  f1-score   support\n",
      "\n",
      "       anger       0.58      0.28      0.38      6709\n",
      "anticipation       0.68      0.59      0.63     42283\n",
      "     disgust       0.45      0.50      0.47     23754\n",
      "        fear       0.63      0.47      0.54     10870\n",
      "         joy       0.61      0.79      0.69     87823\n",
      "     sadness       0.53      0.50      0.51     32758\n",
      "    surprise       0.68      0.25      0.36      8400\n",
      "       trust       0.57      0.39      0.47     34849\n",
      "\n",
      "    accuracy                           0.59    247446\n",
      "   macro avg       0.59      0.47      0.51    247446\n",
      "weighted avg       0.59      0.59      0.58    247446\n",
      "\n",
      "Epoch 7/7\n",
      "989782/989782 [==============================] - 162s 164us/step - loss: 1.0096 - acc: 0.6339 - val_loss: 1.1448 - val_acc: 0.5886\n",
      "              precision    recall  f1-score   support\n",
      "\n",
      "       anger       0.64      0.26      0.37      6709\n",
      "anticipation       0.64      0.62      0.63     42283\n",
      "     disgust       0.48      0.42      0.45     23754\n",
      "        fear       0.65      0.45      0.54     10870\n",
      "         joy       0.62      0.78      0.69     87823\n",
      "     sadness       0.47      0.58      0.52     32758\n",
      "    surprise       0.69      0.25      0.36      8400\n",
      "       trust       0.62      0.37      0.46     34849\n",
      "\n",
      "    accuracy                           0.59    247446\n",
      "   macro avg       0.60      0.47      0.50    247446\n",
      "weighted avg       0.59      0.59      0.58    247446\n",
      "\n",
      "time : 1256.2688057422638 sec\n"
     ]
    }
   ],
   "source": [
    "hidden_nodes = 192\n",
    "\n",
    "RNN = Sequential()\n",
    "RNN.add(embedding_layer)\n",
    "RNN.add(CuDNNLSTM(hidden_nodes))\n",
    "RNN.add(Dense(8, activation='softmax'))\n",
    "RNN.compile(loss='categorical_crossentropy', optimizer='adam', metrics=['acc'])\n",
    "\n",
    "epochs = 7\n",
    "batch_size = 32\n",
    "\n",
    "# cost time calculation\n",
    "start = time.time()\n",
    "\n",
    "history = RNN.fit(X_train, Y_train, epochs=epochs, batch_size=batch_size,\n",
    "                    validation_data=(X_test, Y_test), callbacks=[metrics, csv_logger])\n",
    "\n",
    "print(f'time : {time.time() - start} sec')"
   ]
  },
  {
   "cell_type": "code",
   "execution_count": null,
   "metadata": {},
   "outputs": [
    {
     "data": {
      "text/html": [
       "<div>\n",
       "<style scoped>\n",
       "    .dataframe tbody tr th:only-of-type {\n",
       "        vertical-align: middle;\n",
       "    }\n",
       "\n",
       "    .dataframe tbody tr th {\n",
       "        vertical-align: top;\n",
       "    }\n",
       "\n",
       "    .dataframe thead th {\n",
       "        text-align: right;\n",
       "    }\n",
       "</style>\n",
       "<table border=\"1\" class=\"dataframe\">\n",
       "  <thead>\n",
       "    <tr style=\"text-align: right;\">\n",
       "      <th></th>\n",
       "      <th>epoch</th>\n",
       "      <th>acc</th>\n",
       "      <th>loss</th>\n",
       "      <th>val_acc</th>\n",
       "      <th>val_loss</th>\n",
       "    </tr>\n",
       "  </thead>\n",
       "  <tbody>\n",
       "    <tr>\n",
       "      <th>0</th>\n",
       "      <td>0</td>\n",
       "      <td>0.552609</td>\n",
       "      <td>1.225401</td>\n",
       "      <td>0.578466</td>\n",
       "      <td>1.158715</td>\n",
       "    </tr>\n",
       "    <tr>\n",
       "      <th>1</th>\n",
       "      <td>1</td>\n",
       "      <td>0.590275</td>\n",
       "      <td>1.126637</td>\n",
       "      <td>0.588880</td>\n",
       "      <td>1.132723</td>\n",
       "    </tr>\n",
       "    <tr>\n",
       "      <th>2</th>\n",
       "      <td>2</td>\n",
       "      <td>0.604027</td>\n",
       "      <td>1.090102</td>\n",
       "      <td>0.590444</td>\n",
       "      <td>1.127724</td>\n",
       "    </tr>\n",
       "    <tr>\n",
       "      <th>3</th>\n",
       "      <td>3</td>\n",
       "      <td>0.614266</td>\n",
       "      <td>1.063414</td>\n",
       "      <td>0.591927</td>\n",
       "      <td>1.130201</td>\n",
       "    </tr>\n",
       "    <tr>\n",
       "      <th>4</th>\n",
       "      <td>4</td>\n",
       "      <td>0.622090</td>\n",
       "      <td>1.042202</td>\n",
       "      <td>0.589999</td>\n",
       "      <td>1.132220</td>\n",
       "    </tr>\n",
       "  </tbody>\n",
       "</table>\n",
       "</div>"
      ],
      "text/plain": [
       "   epoch       acc      loss   val_acc  val_loss\n",
       "0      0  0.552609  1.225401  0.578466  1.158715\n",
       "1      1  0.590275  1.126637  0.588880  1.132723\n",
       "2      2  0.604027  1.090102  0.590444  1.127724\n",
       "3      3  0.614266  1.063414  0.591927  1.130201\n",
       "4      4  0.622090  1.042202  0.589999  1.132220"
      ]
     },
     "execution_count": null,
     "metadata": {},
     "output_type": "execute_result"
    }
   ],
   "source": [
    "# import the training log\n",
    "training_log = pd.DataFrame()\n",
    "training_log = pd.read_csv(\"logs/training_log.csv\")\n",
    "training_log.head()"
   ]
  },
  {
   "cell_type": "code",
   "execution_count": null,
   "metadata": {},
   "outputs": [
    {
     "data": {
      "image/png": "[encoded data removed]",
      "text/plain": [
       "<Figure size 1008x360 with 2 Axes>"
      ]
     },
     "metadata": {
      "needs_background": "light"
     },
     "output_type": "display_data"
    }
   ],
   "source": [
    "plt.figure(figsize=(14, 5))\n",
    "\n",
    "# plot testing macro fl score per epoch\n",
    "plt.subplot(121)\n",
    "index = np.arange(epochs)\n",
    "plt.plot(index, metrics.val_f1s, marker='', color='r', linewidth=2)\n",
    "\n",
    "plt.title('Testing macro f1 per epoch')\n",
    "\n",
    "# plot training and testing loss per epoch\n",
    "plt.subplot(122)\n",
    "plt.plot('epoch', 'loss', data=training_log, marker='', color='b', linewidth=2)\n",
    "plt.plot('epoch', 'val_loss', data=training_log , marker='', color='r', linewidth=2)\n",
    "\n",
    "plt.title('Training Loss per epoch')\n",
    "plt.legend()\n",
    "\n",
    "plt.show()  "
   ]
  },
  {
   "cell_type": "markdown",
   "metadata": {},
   "source": [
    "#### Save model parameters"
   ]
  },
  {
   "cell_type": "code",
   "execution_count": null,
   "metadata": {},
   "outputs": [],
   "source": [
    "model = RNN"
   ]
  },
  {
   "cell_type": "code",
   "execution_count": null,
   "metadata": {},
   "outputs": [],
   "source": [
    "# save model\n",
    "model_json = model.to_json()\n",
    "with open(\"models/RNN_v3.json\", \"w\") as json_file:\n",
    "    json_file.write(model_json)"
   ]
  },
  {
   "cell_type": "code",
   "execution_count": null,
   "metadata": {},
   "outputs": [
    {
     "name": "stdout",
     "output_type": "stream",
     "text": [
      "Saved model to disk\n"
     ]
    }
   ],
   "source": [
    "model.save_weights(\"models/RNN_v3.h5\")\n",
    "print(\"Saved model to disk\")"
   ]
  },
  {
   "cell_type": "markdown",
   "metadata": {},
   "source": [
    "---\n",
    "---"
   ]
  },
  {
   "cell_type": "markdown",
   "metadata": {},
   "source": [
    "### validation on test set"
   ]
  },
  {
   "cell_type": "code",
   "execution_count": null,
   "metadata": {},
   "outputs": [],
   "source": [
    "model = RNN\n",
    "df = test_df\n",
    "batch_size = 32"
   ]
  },
  {
   "cell_type": "code",
   "execution_count": null,
   "metadata": {},
   "outputs": [
    {
     "name": "stdout",
     "output_type": "stream",
     "text": [
      "Shape of data tensor: (218335, 30)\n"
     ]
    }
   ],
   "source": [
    "# data preparations\n",
    "X_private_test = tokenizer.texts_to_sequences(df['p_text'].values)\n",
    "X_private_test = pad_sequences(X_private_test, maxlen=MAX_SEQUENCE_LENGTH, padding='post')\n",
    "print('Shape of data tensor:', X_private_test.shape)"
   ]
  },
  {
   "cell_type": "code",
   "execution_count": null,
   "metadata": {},
   "outputs": [],
   "source": [
    "# generate predictions\n",
    "Y_private_test_pred = model.predict(X_private_test, batch_size=batch_size)"
   ]
  },
  {
   "cell_type": "code",
   "execution_count": null,
   "metadata": {},
   "outputs": [],
   "source": [
    "# correct labels\n",
    "y_true = df['label'].values\n",
    "\n",
    "# decode prediction results into labels\n",
    "y_pred = label_decode(label_encoder, Y_private_test_pred)"
   ]
  },
  {
   "cell_type": "code",
   "execution_count": null,
   "metadata": {},
   "outputs": [
    {
     "name": "stdout",
     "output_type": "stream",
     "text": [
      "              precision    recall  f1-score   support\n",
      "\n",
      "       anger       0.62      0.27      0.37      5982\n",
      "anticipation       0.64      0.62      0.63     37269\n",
      "     disgust       0.47      0.42      0.44     20866\n",
      "        fear       0.66      0.46      0.54      9447\n",
      "         joy       0.62      0.78      0.69     77286\n",
      "     sadness       0.47      0.58      0.52     29160\n",
      "    surprise       0.70      0.25      0.37      7343\n",
      "       trust       0.63      0.37      0.47     30982\n",
      "\n",
      "    accuracy                           0.59    218335\n",
      "   macro avg       0.60      0.47      0.50    218335\n",
      "weighted avg       0.59      0.59      0.58    218335\n",
      "\n"
     ]
    }
   ],
   "source": [
    "print(classification_report(y_true=y_true, y_pred=y_pred))"
   ]
  },
  {
   "cell_type": "markdown",
   "metadata": {},
   "source": [
    "---\n",
    "---"
   ]
  },
  {
   "cell_type": "markdown",
   "metadata": {},
   "source": [
    "### Generate Prediction on public test set"
   ]
  },
  {
   "cell_type": "code",
   "execution_count": null,
   "metadata": {},
   "outputs": [],
   "source": [
    "# load json and create model\n",
    "json_file = open('models/RNN.json', 'r')\n",
    "loaded_model_json = json_file.read()\n",
    "json_file.close()\n",
    "model = model_from_json(loaded_model_json)\n",
    "\n",
    "# load weights into new model\n",
    "model.load_weights(\"models/RNN.h5\")\n",
    "print(\"Loaded model from disk\")"
   ]
  },
  {
   "cell_type": "code",
   "execution_count": null,
   "metadata": {},
   "outputs": [],
   "source": [
    "model = model\n",
    "df = public_test_df\n",
    "batch_size = 32"
   ]
  },
  {
   "cell_type": "code",
   "execution_count": null,
   "metadata": {},
   "outputs": [
    {
     "name": "stdout",
     "output_type": "stream",
     "text": [
      "Shape of data tensor: (411972, 30)\n"
     ]
    }
   ],
   "source": [
    "# data preparations\n",
    "X_public_test = tokenizer.texts_to_sequences(df['p_text'].values)\n",
    "X_public_test = pad_sequences(X_public_test, maxlen=MAX_SEQUENCE_LENGTH, padding='post')\n",
    "print('Shape of data tensor:', X_public_test.shape)"
   ]
  },
  {
   "cell_type": "code",
   "execution_count": null,
   "metadata": {},
   "outputs": [],
   "source": [
    "# generate predictions\n",
    "Y_public_test_pred = model.predict(X_public_test, batch_size=batch_size)"
   ]
  },
  {
   "cell_type": "code",
   "execution_count": null,
   "metadata": {},
   "outputs": [],
   "source": [
    "# decode prediction results into labels\n",
    "y_pred = label_decode(label_encoder, Y_public_test_pred)"
   ]
  },
  {
   "cell_type": "code",
   "execution_count": null,
   "metadata": {},
   "outputs": [
    {
     "data": {
      "text/html": [
       "<div>\n",
       "<style scoped>\n",
       "    .dataframe tbody tr th:only-of-type {\n",
       "        vertical-align: middle;\n",
       "    }\n",
       "\n",
       "    .dataframe tbody tr th {\n",
       "        vertical-align: top;\n",
       "    }\n",
       "\n",
       "    .dataframe thead th {\n",
       "        text-align: right;\n",
       "    }\n",
       "</style>\n",
       "<table border=\"1\" class=\"dataframe\">\n",
       "  <thead>\n",
       "    <tr style=\"text-align: right;\">\n",
       "      <th></th>\n",
       "      <th>id</th>\n",
       "      <th>emotion</th>\n",
       "    </tr>\n",
       "  </thead>\n",
       "  <tbody>\n",
       "    <tr>\n",
       "      <th>0</th>\n",
       "      <td>0x2c7743</td>\n",
       "      <td>joy</td>\n",
       "    </tr>\n",
       "    <tr>\n",
       "      <th>1</th>\n",
       "      <td>0x2c1eed</td>\n",
       "      <td>joy</td>\n",
       "    </tr>\n",
       "    <tr>\n",
       "      <th>2</th>\n",
       "      <td>0x2826ea</td>\n",
       "      <td>sadness</td>\n",
       "    </tr>\n",
       "    <tr>\n",
       "      <th>3</th>\n",
       "      <td>0x356d9a</td>\n",
       "      <td>joy</td>\n",
       "    </tr>\n",
       "    <tr>\n",
       "      <th>4</th>\n",
       "      <td>0x20fd95</td>\n",
       "      <td>joy</td>\n",
       "    </tr>\n",
       "  </tbody>\n",
       "</table>\n",
       "</div>"
      ],
      "text/plain": [
       "         id  emotion\n",
       "0  0x2c7743      joy\n",
       "1  0x2c1eed      joy\n",
       "2  0x2826ea  sadness\n",
       "3  0x356d9a      joy\n",
       "4  0x20fd95      joy"
      ]
     },
     "execution_count": null,
     "metadata": {},
     "output_type": "execute_result"
    }
   ],
   "source": [
    "# transform into dataframe to submit to kaggle\n",
    "sample_sub['emotion'] = y_pred\n",
    "sample_sub.head()"
   ]
  },
  {
   "cell_type": "code",
   "execution_count": null,
   "metadata": {},
   "outputs": [],
   "source": [
    "sample_sub.to_csv('submission.csv', index=False)"
   ]
  },
  {
   "cell_type": "code",
   "execution_count": null,
   "metadata": {},
   "outputs": [],
   "source": []
  }
 ],
 "metadata": {
  "kernelspec": {
   "display_name": "Python (Data Mining)",
   "language": "python",
   "name": "data_mining"
  },
  "language_info": {
   "codemirror_mode": {
    "name": "ipython",
    "version": 3
   },
   "file_extension": ".py",
   "mimetype": "text/x-python",
   "name": "python",
   "nbconvert_exporter": "python",
   "pygments_lexer": "ipython3",
   "version": "3.7.5"
  }
 },
 "nbformat": 4,
 "nbformat_minor": 2
}
